{
 "cells": [
  {
   "cell_type": "code",
   "execution_count": 1,
   "id": "a465b4c7",
   "metadata": {},
   "outputs": [],
   "source": [
    "# Another script using a rating system\n",
    "# This is calculated based on formula from https://www.pro-football-reference.com/.\n",
    "# Details can be found > https://www.pro-football-reference.com/blog/index4837.html?p=37"
   ]
  },
  {
   "cell_type": "code",
   "execution_count": 2,
   "id": "71902a21",
   "metadata": {},
   "outputs": [],
   "source": [
    "import pandas as pd\n",
    "import matplotlib.pyplot as plt\n",
    "import glob\n",
    "import numpy as np\n",
    "from sklearn.linear_model import Ridge,LogisticRegression,Lasso\n",
    "from sklearn.metrics import log_loss\n",
    "import seaborn as sns\n",
    "pd.options.display.max_rows = 200\n",
    "\n",
    "%matplotlib inline"
   ]
  },
  {
   "cell_type": "markdown",
   "id": "653530f7",
   "metadata": {},
   "source": [
    "# Data"
   ]
  },
  {
   "cell_type": "code",
   "execution_count": 3,
   "id": "d256b4f3",
   "metadata": {},
   "outputs": [],
   "source": [
    "files = glob.glob('../google-cloud-ncaa-march-madness-2020-division-1-mens-tournament/MDataFiles_Stage1/*')\n",
    "file_dict = {f.split(\"/\")[-1].split(\".\")[0]:f for i,f in enumerate(files)}"
   ]
  },
  {
   "cell_type": "markdown",
   "id": "2cf8f899",
   "metadata": {},
   "source": [
    "# Season Stats"
   ]
  },
  {
   "cell_type": "code",
   "execution_count": 4,
   "id": "846b18be",
   "metadata": {},
   "outputs": [],
   "source": [
    "teams = pd.read_csv(file_dict['MTeams'],usecols=['TeamID','TeamName'])\n",
    "SeasonResults = pd.read_csv(file_dict['MRegularSeasonCompactResults'])"
   ]
  },
  {
   "cell_type": "code",
   "execution_count": 5,
   "id": "42e1c3be",
   "metadata": {},
   "outputs": [],
   "source": [
    "SeasonResultsWin = SeasonResults[['Season','DayNum','WTeamID','WScore','LTeamID','LScore','WLoc']].copy()\n",
    "SeasonResultsWin.columns = ['Season','DayNum','TeamID','Score','TeamID_OPP','Score_OPP','WLoc']\n",
    "SeasonResultsWin['result'] = 1\n",
    "SeasonResultsLose = SeasonResults[['Season','DayNum','WTeamID','WScore','LTeamID','LScore','WLoc']].copy()\n",
    "SeasonResultsLose.columns = ['Season','DayNum','TeamID_OPP','Score_OPP','TeamID','Score','WLoc']\n",
    "SeasonResultsLose['result'] = 0\n",
    "SeasonResultsTeams = pd.concat([SeasonResultsWin,SeasonResultsLose],axis=0,sort=True)\n",
    "\n",
    "SeasonResultsTeams['WL'] = np.where(SeasonResultsTeams['Score']-SeasonResultsTeams['Score_OPP']>0,'W','L')"
   ]
  },
  {
   "cell_type": "markdown",
   "id": "095e3c26",
   "metadata": {},
   "source": [
    "# Tourney Stats"
   ]
  },
  {
   "cell_type": "code",
   "execution_count": 6,
   "id": "84aff297",
   "metadata": {},
   "outputs": [],
   "source": [
    "TourneyCompactResults = pd.read_csv(file_dict['MNCAATourneyCompactResults'])\n",
    "TourneyCompactResults['TeamID1'] = np.minimum(TourneyCompactResults['WTeamID'],TourneyCompactResults['LTeamID'])\n",
    "TourneyCompactResults['TeamID2'] = np.maximum(TourneyCompactResults['WTeamID'],TourneyCompactResults['LTeamID'])\n",
    "TourneyCompactResults['result'] = np.where(TourneyCompactResults['WTeamID']==TourneyCompactResults['TeamID1'],1,0)\n",
    "TourneyCompactResults['ID'] = TourneyCompactResults['Season'].astype(str)+ '_' +TourneyCompactResults['TeamID1'].astype(str)+ '_' +TourneyCompactResults['TeamID2'].astype(str)\n"
   ]
  },
  {
   "cell_type": "code",
   "execution_count": 7,
   "id": "8571891b",
   "metadata": {},
   "outputs": [],
   "source": [
    "def SOS(data,seasons,alpha=0.0008,reg_type='Lasso',zscore=True,days = 133):\n",
    "    \"\"\"Find the true team strength by adjusting for opponent and average margin of victory. \n",
    "    Computes the strength based on a single season.\n",
    "    The regression is based on an m*m matrix where m is the number of teams.\n",
    "    Input:\n",
    "    data - pandas data frame with same structure as SeasonResultsTeams\n",
    "    files\n",
    "    seasons - a list/array of seasons to compute the strength for\n",
    "    alpha (default = 0.008) - the regularization parameter\n",
    "    reg_type (default = Lasso) - 'Lasso', 'Ridge' or 'Logistic'\n",
    "    days (default = 133) - only includes games with DayNum < days. \n",
    "    zscore (default = False) - if True computes the zscore for each season\n",
    "    Example:\n",
    "    team_strength = SOS(SeasonResults,np.arange(1985,2020),alpha=0.001,reg_type='Lasso')\n",
    "    \"\"\"\n",
    "    \n",
    "    if reg_type == 'Lasso':\n",
    "        lin = Lasso(alpha=alpha);\n",
    "    elif reg_type == 'Ridge':\n",
    "        lin = Ridge(alpha=alpha);\n",
    "    else:\n",
    "        print('reg_type is not recognized. Using Lasso.')\n",
    "        lin = Lasso(alpha=alpha);\n",
    "        \n",
    "    srs = []\n",
    "    for season in seasons:\n",
    "        single_season = data.loc[(data['Season']==season)&(data['DayNum']<=days)].copy()\n",
    "        team_results =  single_season.groupby(['TeamID','TeamID_OPP']).size().unstack(1).fillna(0)\n",
    "        team_results = -(team_results.T/team_results.sum(axis=1).T).T\n",
    "\n",
    "        outcomes = single_season.groupby('TeamID')[['Score','Score_OPP']].mean()\n",
    "        outcomes['scoreDiff'] = outcomes['Score'] - outcomes['Score_OPP']\n",
    "        y = outcomes['scoreDiff'].values\n",
    "\n",
    "        A = team_results.values\n",
    "        np.fill_diagonal(A, 1)\n",
    "        lin.fit(A,y)\n",
    "        srs_per_team = lin.coef_\n",
    "        single_season_srs = pd.DataFrame(srs_per_team,index=team_results.index,columns=['SRS']).reset_index()\n",
    "        single_season_srs['MOV'] = y\n",
    "        single_season_srs['Season'] = season\n",
    "        single_season_srs['SOS'] = single_season_srs['SRS'] - single_season_srs['MOV']\n",
    "        if zscore:\n",
    "            single_season_srs['SRS'] = (single_season_srs['SRS'] - single_season_srs['SRS'].mean())/single_season_srs['SRS'].std()\n",
    "        srs.append(single_season_srs)\n",
    "    return pd.concat(srs,ignore_index=True)"
   ]
  },
  {
   "cell_type": "markdown",
   "id": "65b0fe51",
   "metadata": {},
   "source": [
    "# Hypertune Regularization Parameter\n",
    "Using cross validation we are going to see what is the best regularization parameter for the SRS to be predictive in the NCAA tournament"
   ]
  },
  {
   "cell_type": "code",
   "execution_count": 8,
   "id": "789936e8",
   "metadata": {},
   "outputs": [],
   "source": [
    "def hypertune_model(reg_type,alphas,zscores):\n",
    "    # Define predictive model for the trounament with low regularization parameter \n",
    "    lr = LogisticRegression(solver='lbfgs',C=1000000,random_state=0,max_iter=1500)\n",
    "\n",
    "    all_scores = []\n",
    "    for zscore in zscores:\n",
    "        for alpha in alphas:  \n",
    "            \n",
    "#      get team strength\n",
    "            team_strength = SOS(SeasonResultsTeams,\n",
    "                                 np.arange(1985,2020),\n",
    "                                 alpha=alpha,\n",
    "                                 reg_type=reg_type,\n",
    "                                 zscore=zscore)\n",
    "\n",
    "#      join to tournament data\n",
    "\n",
    "            TourneyResults = (TourneyCompactResults\n",
    "                                     .merge(team_strength,left_on=['Season','TeamID1'],right_on=['Season','TeamID'],how='left')\n",
    "                                     .drop('TeamID',axis=1)\n",
    "                                     .merge(team_strength,left_on=['Season','TeamID2'],right_on=['Season','TeamID'],how='left')\n",
    "                                     .drop('TeamID',axis=1)\n",
    "                                    ).copy()\n",
    "\n",
    "            TourneyResults['strength_diff'] = TourneyResults['SRS_x'] - TourneyResults['SRS_y']\n",
    "\n",
    "            cols = ['strength_diff']\n",
    "\n",
    "            # define model variables\n",
    "            X = TourneyResults.loc[:,cols]\n",
    "            y = TourneyResults[['result']].values.ravel()\n",
    "            \n",
    "            ## Could use unique here instead of ravel;\n",
    "                ## .concat , .unique\n",
    "\n",
    "            # run cross validation\n",
    "            scores = np.zeros((5,1))\n",
    "            for ii,s in enumerate(range(2014,2019)):\n",
    "                idxTrain = (TourneyResults['Season'] < s) \n",
    "                idxTest = (TourneyResults['Season'] == s)\n",
    "                \n",
    "#             fit all models\n",
    "\n",
    "                lr.fit(X.loc[idxTrain],y[idxTrain])\n",
    "\n",
    "                ypred_lr = lr.predict_proba(X.loc[idxTest])\n",
    "\n",
    "                scores[ii,0] = log_loss(y[idxTest],ypred_lr[:,1])\n",
    "\n",
    "            all_scores.append([zscore,alpha,np.mean(scores),np.std(scores)])\n",
    "\n",
    "    return pd.DataFrame(all_scores,columns=['zscore','alpha','log_loss_mean','log_loss_std'])   "
   ]
  },
  {
   "cell_type": "markdown",
   "id": "e9f6e504",
   "metadata": {},
   "source": [
    "# Ridge Regression\n",
    "Results with method 1 was 0.546306"
   ]
  },
  {
   "cell_type": "code",
   "execution_count": 9,
   "id": "1a202de6",
   "metadata": {},
   "outputs": [],
   "source": [
    "all_scores_df = hypertune_model('Ridge',[0.001,0.01,0.1,1,10,100],[False,True])"
   ]
  },
  {
   "cell_type": "code",
   "execution_count": 10,
   "id": "1d7d0b34",
   "metadata": {},
   "outputs": [],
   "source": [
    "# use this to highlight the minimum value - https://pandas.pydata.org/pandas-docs/stable/user_guide/style.html\n",
    "def highlight_min(s):\n",
    "    '''\n",
    "    highlight the maximum in a Series yellow.\n",
    "    '''\n",
    "    is_min = s == s.min()\n",
    "    return ['background-color: yellow' if v else '' for v in is_min]"
   ]
  },
  {
   "cell_type": "code",
   "execution_count": 11,
   "id": "2c339a82",
   "metadata": {},
   "outputs": [
    {
     "data": {
      "text/html": [
       "<style type=\"text/css\">\n",
       "#T_b50b9_row1_col2 {\n",
       "  background-color: yellow;\n",
       "}\n",
       "</style>\n",
       "<table id=\"T_b50b9_\">\n",
       "  <thead>\n",
       "    <tr>\n",
       "      <th class=\"blank level0\" >&nbsp;</th>\n",
       "      <th class=\"col_heading level0 col0\" >zscore</th>\n",
       "      <th class=\"col_heading level0 col1\" >alpha</th>\n",
       "      <th class=\"col_heading level0 col2\" >log_loss_mean</th>\n",
       "      <th class=\"col_heading level0 col3\" >log_loss_std</th>\n",
       "    </tr>\n",
       "  </thead>\n",
       "  <tbody>\n",
       "    <tr>\n",
       "      <th id=\"T_b50b9_level0_row0\" class=\"row_heading level0 row0\" >0</th>\n",
       "      <td id=\"T_b50b9_row0_col0\" class=\"data row0 col0\" >False</td>\n",
       "      <td id=\"T_b50b9_row0_col1\" class=\"data row0 col1\" >0.001000</td>\n",
       "      <td id=\"T_b50b9_row0_col2\" class=\"data row0 col2\" >0.548127</td>\n",
       "      <td id=\"T_b50b9_row0_col3\" class=\"data row0 col3\" >0.041472</td>\n",
       "    </tr>\n",
       "    <tr>\n",
       "      <th id=\"T_b50b9_level0_row1\" class=\"row_heading level0 row1\" >1</th>\n",
       "      <td id=\"T_b50b9_row1_col0\" class=\"data row1 col0\" >False</td>\n",
       "      <td id=\"T_b50b9_row1_col1\" class=\"data row1 col1\" >0.010000</td>\n",
       "      <td id=\"T_b50b9_row1_col2\" class=\"data row1 col2\" >0.546461</td>\n",
       "      <td id=\"T_b50b9_row1_col3\" class=\"data row1 col3\" >0.041055</td>\n",
       "    </tr>\n",
       "    <tr>\n",
       "      <th id=\"T_b50b9_level0_row2\" class=\"row_heading level0 row2\" >2</th>\n",
       "      <td id=\"T_b50b9_row2_col0\" class=\"data row2 col0\" >False</td>\n",
       "      <td id=\"T_b50b9_row2_col1\" class=\"data row2 col1\" >0.100000</td>\n",
       "      <td id=\"T_b50b9_row2_col2\" class=\"data row2 col2\" >0.556322</td>\n",
       "      <td id=\"T_b50b9_row2_col3\" class=\"data row2 col3\" >0.036384</td>\n",
       "    </tr>\n",
       "    <tr>\n",
       "      <th id=\"T_b50b9_level0_row3\" class=\"row_heading level0 row3\" >3</th>\n",
       "      <td id=\"T_b50b9_row3_col0\" class=\"data row3 col0\" >False</td>\n",
       "      <td id=\"T_b50b9_row3_col1\" class=\"data row3 col1\" >1.000000</td>\n",
       "      <td id=\"T_b50b9_row3_col2\" class=\"data row3 col2\" >0.643838</td>\n",
       "      <td id=\"T_b50b9_row3_col3\" class=\"data row3 col3\" >0.023937</td>\n",
       "    </tr>\n",
       "    <tr>\n",
       "      <th id=\"T_b50b9_level0_row4\" class=\"row_heading level0 row4\" >4</th>\n",
       "      <td id=\"T_b50b9_row4_col0\" class=\"data row4 col0\" >False</td>\n",
       "      <td id=\"T_b50b9_row4_col1\" class=\"data row4 col1\" >10.000000</td>\n",
       "      <td id=\"T_b50b9_row4_col2\" class=\"data row4 col2\" >0.670334</td>\n",
       "      <td id=\"T_b50b9_row4_col3\" class=\"data row4 col3\" >0.017392</td>\n",
       "    </tr>\n",
       "    <tr>\n",
       "      <th id=\"T_b50b9_level0_row5\" class=\"row_heading level0 row5\" >5</th>\n",
       "      <td id=\"T_b50b9_row5_col0\" class=\"data row5 col0\" >False</td>\n",
       "      <td id=\"T_b50b9_row5_col1\" class=\"data row5 col1\" >100.000000</td>\n",
       "      <td id=\"T_b50b9_row5_col2\" class=\"data row5 col2\" >0.673286</td>\n",
       "      <td id=\"T_b50b9_row5_col3\" class=\"data row5 col3\" >0.016413</td>\n",
       "    </tr>\n",
       "    <tr>\n",
       "      <th id=\"T_b50b9_level0_row6\" class=\"row_heading level0 row6\" >6</th>\n",
       "      <td id=\"T_b50b9_row6_col0\" class=\"data row6 col0\" >True</td>\n",
       "      <td id=\"T_b50b9_row6_col1\" class=\"data row6 col1\" >0.001000</td>\n",
       "      <td id=\"T_b50b9_row6_col2\" class=\"data row6 col2\" >0.548489</td>\n",
       "      <td id=\"T_b50b9_row6_col3\" class=\"data row6 col3\" >0.042086</td>\n",
       "    </tr>\n",
       "    <tr>\n",
       "      <th id=\"T_b50b9_level0_row7\" class=\"row_heading level0 row7\" >7</th>\n",
       "      <td id=\"T_b50b9_row7_col0\" class=\"data row7 col0\" >True</td>\n",
       "      <td id=\"T_b50b9_row7_col1\" class=\"data row7 col1\" >0.010000</td>\n",
       "      <td id=\"T_b50b9_row7_col2\" class=\"data row7 col2\" >0.546654</td>\n",
       "      <td id=\"T_b50b9_row7_col3\" class=\"data row7 col3\" >0.041419</td>\n",
       "    </tr>\n",
       "    <tr>\n",
       "      <th id=\"T_b50b9_level0_row8\" class=\"row_heading level0 row8\" >8</th>\n",
       "      <td id=\"T_b50b9_row8_col0\" class=\"data row8 col0\" >True</td>\n",
       "      <td id=\"T_b50b9_row8_col1\" class=\"data row8 col1\" >0.100000</td>\n",
       "      <td id=\"T_b50b9_row8_col2\" class=\"data row8 col2\" >0.555952</td>\n",
       "      <td id=\"T_b50b9_row8_col3\" class=\"data row8 col3\" >0.036745</td>\n",
       "    </tr>\n",
       "    <tr>\n",
       "      <th id=\"T_b50b9_level0_row9\" class=\"row_heading level0 row9\" >9</th>\n",
       "      <td id=\"T_b50b9_row9_col0\" class=\"data row9 col0\" >True</td>\n",
       "      <td id=\"T_b50b9_row9_col1\" class=\"data row9 col1\" >1.000000</td>\n",
       "      <td id=\"T_b50b9_row9_col2\" class=\"data row9 col2\" >0.644054</td>\n",
       "      <td id=\"T_b50b9_row9_col3\" class=\"data row9 col3\" >0.025012</td>\n",
       "    </tr>\n",
       "    <tr>\n",
       "      <th id=\"T_b50b9_level0_row10\" class=\"row_heading level0 row10\" >10</th>\n",
       "      <td id=\"T_b50b9_row10_col0\" class=\"data row10 col0\" >True</td>\n",
       "      <td id=\"T_b50b9_row10_col1\" class=\"data row10 col1\" >10.000000</td>\n",
       "      <td id=\"T_b50b9_row10_col2\" class=\"data row10 col2\" >0.670826</td>\n",
       "      <td id=\"T_b50b9_row10_col3\" class=\"data row10 col3\" >0.018773</td>\n",
       "    </tr>\n",
       "    <tr>\n",
       "      <th id=\"T_b50b9_level0_row11\" class=\"row_heading level0 row11\" >11</th>\n",
       "      <td id=\"T_b50b9_row11_col0\" class=\"data row11 col0\" >True</td>\n",
       "      <td id=\"T_b50b9_row11_col1\" class=\"data row11 col1\" >100.000000</td>\n",
       "      <td id=\"T_b50b9_row11_col2\" class=\"data row11 col2\" >0.673807</td>\n",
       "      <td id=\"T_b50b9_row11_col3\" class=\"data row11 col3\" >0.017843</td>\n",
       "    </tr>\n",
       "  </tbody>\n",
       "</table>\n"
      ],
      "text/plain": [
       "<pandas.io.formats.style.Styler at 0x7f9c6531f250>"
      ]
     },
     "execution_count": 11,
     "metadata": {},
     "output_type": "execute_result"
    }
   ],
   "source": [
    "all_scores_df\n",
    "all_scores_df.style.apply(highlight_min,subset=['log_loss_mean'])"
   ]
  },
  {
   "cell_type": "markdown",
   "id": "d72093ac",
   "metadata": {},
   "source": [
    "# Lasso Regression"
   ]
  },
  {
   "cell_type": "code",
   "execution_count": 12,
   "id": "f75c1ed0",
   "metadata": {},
   "outputs": [],
   "source": [
    "all_scores_df2 = hypertune_model('Lasso',[0.0005,0.001,0.002,0.004,0.008,0.016],[False,True])"
   ]
  },
  {
   "cell_type": "code",
   "execution_count": 13,
   "id": "0f461830",
   "metadata": {},
   "outputs": [
    {
     "data": {
      "text/html": [
       "<style type=\"text/css\">\n",
       "#T_716e0_row7_col2 {\n",
       "  background-color: yellow;\n",
       "}\n",
       "</style>\n",
       "<table id=\"T_716e0_\">\n",
       "  <thead>\n",
       "    <tr>\n",
       "      <th class=\"blank level0\" >&nbsp;</th>\n",
       "      <th class=\"col_heading level0 col0\" >zscore</th>\n",
       "      <th class=\"col_heading level0 col1\" >alpha</th>\n",
       "      <th class=\"col_heading level0 col2\" >log_loss_mean</th>\n",
       "      <th class=\"col_heading level0 col3\" >log_loss_std</th>\n",
       "    </tr>\n",
       "  </thead>\n",
       "  <tbody>\n",
       "    <tr>\n",
       "      <th id=\"T_716e0_level0_row0\" class=\"row_heading level0 row0\" >0</th>\n",
       "      <td id=\"T_716e0_row0_col0\" class=\"data row0 col0\" >False</td>\n",
       "      <td id=\"T_716e0_row0_col1\" class=\"data row0 col1\" >0.000500</td>\n",
       "      <td id=\"T_716e0_row0_col2\" class=\"data row0 col2\" >0.545271</td>\n",
       "      <td id=\"T_716e0_row0_col3\" class=\"data row0 col3\" >0.040823</td>\n",
       "    </tr>\n",
       "    <tr>\n",
       "      <th id=\"T_716e0_level0_row1\" class=\"row_heading level0 row1\" >1</th>\n",
       "      <td id=\"T_716e0_row1_col0\" class=\"data row1 col0\" >False</td>\n",
       "      <td id=\"T_716e0_row1_col1\" class=\"data row1 col1\" >0.001000</td>\n",
       "      <td id=\"T_716e0_row1_col2\" class=\"data row1 col2\" >0.544806</td>\n",
       "      <td id=\"T_716e0_row1_col3\" class=\"data row1 col3\" >0.040348</td>\n",
       "    </tr>\n",
       "    <tr>\n",
       "      <th id=\"T_716e0_level0_row2\" class=\"row_heading level0 row2\" >2</th>\n",
       "      <td id=\"T_716e0_row2_col0\" class=\"data row2 col0\" >False</td>\n",
       "      <td id=\"T_716e0_row2_col1\" class=\"data row2 col1\" >0.002000</td>\n",
       "      <td id=\"T_716e0_row2_col2\" class=\"data row2 col2\" >0.550650</td>\n",
       "      <td id=\"T_716e0_row2_col3\" class=\"data row2 col3\" >0.040108</td>\n",
       "    </tr>\n",
       "    <tr>\n",
       "      <th id=\"T_716e0_level0_row3\" class=\"row_heading level0 row3\" >3</th>\n",
       "      <td id=\"T_716e0_row3_col0\" class=\"data row3 col0\" >False</td>\n",
       "      <td id=\"T_716e0_row3_col1\" class=\"data row3 col1\" >0.004000</td>\n",
       "      <td id=\"T_716e0_row3_col2\" class=\"data row3 col2\" >0.578154</td>\n",
       "      <td id=\"T_716e0_row3_col3\" class=\"data row3 col3\" >0.038092</td>\n",
       "    </tr>\n",
       "    <tr>\n",
       "      <th id=\"T_716e0_level0_row4\" class=\"row_heading level0 row4\" >4</th>\n",
       "      <td id=\"T_716e0_row4_col0\" class=\"data row4 col0\" >False</td>\n",
       "      <td id=\"T_716e0_row4_col1\" class=\"data row4 col1\" >0.008000</td>\n",
       "      <td id=\"T_716e0_row4_col2\" class=\"data row4 col2\" >0.623629</td>\n",
       "      <td id=\"T_716e0_row4_col3\" class=\"data row4 col3\" >0.042657</td>\n",
       "    </tr>\n",
       "    <tr>\n",
       "      <th id=\"T_716e0_level0_row5\" class=\"row_heading level0 row5\" >5</th>\n",
       "      <td id=\"T_716e0_row5_col0\" class=\"data row5 col0\" >False</td>\n",
       "      <td id=\"T_716e0_row5_col1\" class=\"data row5 col1\" >0.016000</td>\n",
       "      <td id=\"T_716e0_row5_col2\" class=\"data row5 col2\" >0.661755</td>\n",
       "      <td id=\"T_716e0_row5_col3\" class=\"data row5 col3\" >0.030470</td>\n",
       "    </tr>\n",
       "    <tr>\n",
       "      <th id=\"T_716e0_level0_row6\" class=\"row_heading level0 row6\" >6</th>\n",
       "      <td id=\"T_716e0_row6_col0\" class=\"data row6 col0\" >True</td>\n",
       "      <td id=\"T_716e0_row6_col1\" class=\"data row6 col1\" >0.000500</td>\n",
       "      <td id=\"T_716e0_row6_col2\" class=\"data row6 col2\" >0.545401</td>\n",
       "      <td id=\"T_716e0_row6_col3\" class=\"data row6 col3\" >0.041393</td>\n",
       "    </tr>\n",
       "    <tr>\n",
       "      <th id=\"T_716e0_level0_row7\" class=\"row_heading level0 row7\" >7</th>\n",
       "      <td id=\"T_716e0_row7_col0\" class=\"data row7 col0\" >True</td>\n",
       "      <td id=\"T_716e0_row7_col1\" class=\"data row7 col1\" >0.001000</td>\n",
       "      <td id=\"T_716e0_row7_col2\" class=\"data row7 col2\" >0.544721</td>\n",
       "      <td id=\"T_716e0_row7_col3\" class=\"data row7 col3\" >0.040928</td>\n",
       "    </tr>\n",
       "    <tr>\n",
       "      <th id=\"T_716e0_level0_row8\" class=\"row_heading level0 row8\" >8</th>\n",
       "      <td id=\"T_716e0_row8_col0\" class=\"data row8 col0\" >True</td>\n",
       "      <td id=\"T_716e0_row8_col1\" class=\"data row8 col1\" >0.002000</td>\n",
       "      <td id=\"T_716e0_row8_col2\" class=\"data row8 col2\" >0.550253</td>\n",
       "      <td id=\"T_716e0_row8_col3\" class=\"data row8 col3\" >0.041154</td>\n",
       "    </tr>\n",
       "    <tr>\n",
       "      <th id=\"T_716e0_level0_row9\" class=\"row_heading level0 row9\" >9</th>\n",
       "      <td id=\"T_716e0_row9_col0\" class=\"data row9 col0\" >True</td>\n",
       "      <td id=\"T_716e0_row9_col1\" class=\"data row9 col1\" >0.004000</td>\n",
       "      <td id=\"T_716e0_row9_col2\" class=\"data row9 col2\" >0.577596</td>\n",
       "      <td id=\"T_716e0_row9_col3\" class=\"data row9 col3\" >0.040023</td>\n",
       "    </tr>\n",
       "    <tr>\n",
       "      <th id=\"T_716e0_level0_row10\" class=\"row_heading level0 row10\" >10</th>\n",
       "      <td id=\"T_716e0_row10_col0\" class=\"data row10 col0\" >True</td>\n",
       "      <td id=\"T_716e0_row10_col1\" class=\"data row10 col1\" >0.008000</td>\n",
       "      <td id=\"T_716e0_row10_col2\" class=\"data row10 col2\" >0.624985</td>\n",
       "      <td id=\"T_716e0_row10_col3\" class=\"data row10 col3\" >0.046709</td>\n",
       "    </tr>\n",
       "    <tr>\n",
       "      <th id=\"T_716e0_level0_row11\" class=\"row_heading level0 row11\" >11</th>\n",
       "      <td id=\"T_716e0_row11_col0\" class=\"data row11 col0\" >True</td>\n",
       "      <td id=\"T_716e0_row11_col1\" class=\"data row11 col1\" >0.016000</td>\n",
       "      <td id=\"T_716e0_row11_col2\" class=\"data row11 col2\" >0.665857</td>\n",
       "      <td id=\"T_716e0_row11_col3\" class=\"data row11 col3\" >0.036473</td>\n",
       "    </tr>\n",
       "  </tbody>\n",
       "</table>\n"
      ],
      "text/plain": [
       "<pandas.io.formats.style.Styler at 0x7f9c53a22fd0>"
      ]
     },
     "execution_count": 13,
     "metadata": {},
     "output_type": "execute_result"
    }
   ],
   "source": [
    "all_scores_df2\n",
    "all_scores_df2.style.apply(highlight_min,subset=['log_loss_mean'])"
   ]
  },
  {
   "cell_type": "markdown",
   "id": "dc952971",
   "metadata": {},
   "source": [
    "Our previous best result was 0.546306.\n",
    "We can see that we got the best results for predicting the NCAA tournament using this method!!!\n",
    "\n",
    "Another thing to notice is that the zscore did seem to help in this case."
   ]
  },
  {
   "cell_type": "markdown",
   "id": "13eb2249",
   "metadata": {},
   "source": [
    "# Find the strongest team since 1985*"
   ]
  },
  {
   "cell_type": "markdown",
   "id": "5d6d1ece",
   "metadata": {},
   "source": [
    "*If we didn't care about the NCAA tournament we wouldn't use regularization. Since we are trying to find the strength of the teams as a predictive feature for the NCAA tournament we are using the regularization we found with the hypertunning."
   ]
  },
  {
   "cell_type": "code",
   "execution_count": 14,
   "id": "cb5c1e35",
   "metadata": {},
   "outputs": [
    {
     "data": {
      "text/html": [
       "<div>\n",
       "<style scoped>\n",
       "    .dataframe tbody tr th:only-of-type {\n",
       "        vertical-align: middle;\n",
       "    }\n",
       "\n",
       "    .dataframe tbody tr th {\n",
       "        vertical-align: top;\n",
       "    }\n",
       "\n",
       "    .dataframe thead th {\n",
       "        text-align: right;\n",
       "    }\n",
       "</style>\n",
       "<table border=\"1\" class=\"dataframe\">\n",
       "  <thead>\n",
       "    <tr style=\"text-align: right;\">\n",
       "      <th></th>\n",
       "      <th>TeamName</th>\n",
       "      <th>Season</th>\n",
       "      <th>SRS</th>\n",
       "      <th>MOV</th>\n",
       "      <th>SOS</th>\n",
       "      <th>ConfAbbrev</th>\n",
       "    </tr>\n",
       "  </thead>\n",
       "  <tbody>\n",
       "    <tr>\n",
       "      <th>0</th>\n",
       "      <td>Duke</td>\n",
       "      <td>1999</td>\n",
       "      <td>3.684896</td>\n",
       "      <td>25.424242</td>\n",
       "      <td>8.632206</td>\n",
       "      <td>acc</td>\n",
       "    </tr>\n",
       "    <tr>\n",
       "      <th>1</th>\n",
       "      <td>Duke</td>\n",
       "      <td>2001</td>\n",
       "      <td>3.328810</td>\n",
       "      <td>20.848485</td>\n",
       "      <td>9.751051</td>\n",
       "      <td>acc</td>\n",
       "    </tr>\n",
       "    <tr>\n",
       "      <th>2</th>\n",
       "      <td>UNLV</td>\n",
       "      <td>1991</td>\n",
       "      <td>3.214135</td>\n",
       "      <td>28.933333</td>\n",
       "      <td>2.372293</td>\n",
       "      <td>big_west</td>\n",
       "    </tr>\n",
       "    <tr>\n",
       "      <th>3</th>\n",
       "      <td>Duke</td>\n",
       "      <td>1998</td>\n",
       "      <td>3.209445</td>\n",
       "      <td>21.166667</td>\n",
       "      <td>8.539421</td>\n",
       "      <td>acc</td>\n",
       "    </tr>\n",
       "    <tr>\n",
       "      <th>4</th>\n",
       "      <td>Kentucky</td>\n",
       "      <td>1996</td>\n",
       "      <td>3.186182</td>\n",
       "      <td>22.200000</td>\n",
       "      <td>6.955198</td>\n",
       "      <td>sec</td>\n",
       "    </tr>\n",
       "    <tr>\n",
       "      <th>5</th>\n",
       "      <td>Gonzaga</td>\n",
       "      <td>2019</td>\n",
       "      <td>3.155749</td>\n",
       "      <td>23.787879</td>\n",
       "      <td>4.230072</td>\n",
       "      <td>wcc</td>\n",
       "    </tr>\n",
       "    <tr>\n",
       "      <th>6</th>\n",
       "      <td>Oklahoma</td>\n",
       "      <td>1988</td>\n",
       "      <td>3.143722</td>\n",
       "      <td>23.393939</td>\n",
       "      <td>4.872336</td>\n",
       "      <td>big_eight</td>\n",
       "    </tr>\n",
       "    <tr>\n",
       "      <th>7</th>\n",
       "      <td>Kentucky</td>\n",
       "      <td>2015</td>\n",
       "      <td>3.134946</td>\n",
       "      <td>20.941176</td>\n",
       "      <td>6.374745</td>\n",
       "      <td>sec</td>\n",
       "    </tr>\n",
       "    <tr>\n",
       "      <th>8</th>\n",
       "      <td>North Carolina</td>\n",
       "      <td>1986</td>\n",
       "      <td>3.097695</td>\n",
       "      <td>18.838710</td>\n",
       "      <td>8.157938</td>\n",
       "      <td>acc</td>\n",
       "    </tr>\n",
       "    <tr>\n",
       "      <th>9</th>\n",
       "      <td>Kentucky</td>\n",
       "      <td>1997</td>\n",
       "      <td>3.046292</td>\n",
       "      <td>21.363636</td>\n",
       "      <td>6.629357</td>\n",
       "      <td>sec</td>\n",
       "    </tr>\n",
       "  </tbody>\n",
       "</table>\n",
       "</div>"
      ],
      "text/plain": [
       "         TeamName  Season       SRS        MOV       SOS ConfAbbrev\n",
       "0            Duke    1999  3.684896  25.424242  8.632206        acc\n",
       "1            Duke    2001  3.328810  20.848485  9.751051        acc\n",
       "2            UNLV    1991  3.214135  28.933333  2.372293   big_west\n",
       "3            Duke    1998  3.209445  21.166667  8.539421        acc\n",
       "4        Kentucky    1996  3.186182  22.200000  6.955198        sec\n",
       "5         Gonzaga    2019  3.155749  23.787879  4.230072        wcc\n",
       "6        Oklahoma    1988  3.143722  23.393939  4.872336  big_eight\n",
       "7        Kentucky    2015  3.134946  20.941176  6.374745        sec\n",
       "8  North Carolina    1986  3.097695  18.838710  8.157938        acc\n",
       "9        Kentucky    1997  3.046292  21.363636  6.629357        sec"
      ]
     },
     "execution_count": 14,
     "metadata": {},
     "output_type": "execute_result"
    }
   ],
   "source": [
    "teams_sos = SOS(SeasonResultsTeams,np.arange(1985,2020),alpha=0.001,zscore=True)\n",
    "conf = pd.read_csv(file_dict['MTeamConferences'])\n",
    "teams_sos = (teams_sos\n",
    "             .merge(teams[['TeamID','TeamName']],on='TeamID',how='left')\n",
    "             .merge(conf,on=['TeamID','Season'])\n",
    "             .sort_values(by='SRS',ascending=False)\n",
    "             .reset_index(drop=True)\n",
    "            )\n",
    "teams_sos[['TeamName','Season','SRS','MOV','SOS','ConfAbbrev']].head(10)\n",
    "\n",
    "### SRS = SRS(before zscore) - MOV, Margin of Victory(MOV), Strength of Schedule(SOS) ###"
   ]
  },
  {
   "cell_type": "markdown",
   "id": "5139c59a",
   "metadata": {},
   "source": [
    "We can also see each teams Margin Of Victory (MOV) and Strength Of Schedule (SOS). In fact, the SOS is calculated by SRS (before zscore) - MOV."
   ]
  },
  {
   "cell_type": "markdown",
   "id": "516d86de",
   "metadata": {},
   "source": [
    "# Average SOS for Each Conference"
   ]
  },
  {
   "cell_type": "markdown",
   "id": "9d393af6",
   "metadata": {},
   "source": [
    "Box plot my mean data"
   ]
  },
  {
   "cell_type": "code",
   "execution_count": 15,
   "id": "7c3adca3",
   "metadata": {},
   "outputs": [],
   "source": [
    "strength_by_conf = (teams_sos[teams_sos['Season']==2019]\n",
    "                      .groupby('ConfAbbrev')[['SOS']]\n",
    "                      .mean()\n",
    "                      .sort_values(by='SOS',ascending=False)\n",
    "                      .reset_index()\n",
    "                     )"
   ]
  },
  {
   "cell_type": "markdown",
   "id": "e72c6851",
   "metadata": {},
   "source": [
    "Seaborn library to make the box plot"
   ]
  },
  {
   "cell_type": "code",
   "execution_count": 16,
   "id": "8bd5b75b",
   "metadata": {},
   "outputs": [
    {
     "data": {
      "image/png": "[encoded data removed]",
      "text/plain": [
       "<Figure size 576x720 with 1 Axes>"
      ]
     },
     "metadata": {},
     "output_type": "display_data"
    }
   ],
   "source": [
    "sns.set(font_scale=1.5)\n",
    "fig,ax = plt.subplots(figsize=(8,10))\n",
    "\n",
    "ax = sns.boxplot(y=\"ConfAbbrev\",\n",
    "                 x=\"SOS\",\n",
    "                 data=teams_sos[teams_sos['Season']==2019],\n",
    "                 orient='h',\n",
    "                 order=strength_by_conf['ConfAbbrev'].tolist())\n",
    "\n",
    "ax.set_xlabel('Strength Of Schedule (SOS)',fontsize=16);\n",
    "ax.set_ylabel('',fontsize=16);\n",
    "ax.set_title('Strength Of Schedule By Conference (2019)',fontsize=20);"
   ]
  },
  {
   "cell_type": "code",
   "execution_count": 17,
   "id": "7b1aab96",
   "metadata": {},
   "outputs": [],
   "source": [
    "#fig.savefig('Simple Rating System.png',bbox_inches='tight')"
   ]
  }
 ],
 "metadata": {
  "kernelspec": {
   "display_name": "mlenv",
   "language": "python",
   "name": "mlenv"
  },
  "language_info": {
   "codemirror_mode": {
    "name": "ipython",
    "version": 3
   },
   "file_extension": ".py",
   "mimetype": "text/x-python",
   "name": "python",
   "nbconvert_exporter": "python",
   "pygments_lexer": "ipython3",
   "version": "3.7.11"
  }
 },
 "nbformat": 4,
 "nbformat_minor": 5
}
